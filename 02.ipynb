{
 "cells": [
  {
   "cell_type": "markdown",
   "metadata": {},
   "source": [
    "Необов'язкове завдання\n",
    "\n",
    "Дано k відсортованих списків цілих чисел. Ваше завдання — об'єднати їх у один відсортований список. При виконанні завдання можете опиратися на алгоритм сортування злиттям з конспекту. Реалізуйте функцію merge_k_lists , яка приймає на вхід список відсортованих списків та повертає відсортований список.\n",
    "\n",
    "\n",
    "\n",
    "Приклад очікуваного результату:\n",
    "\n",
    "lists = [[1, 4, 5], [1, 3, 4], [2, 6]]\n",
    "merged_list = merge_k_lists(lists)\n",
    "print(\"Відсортований список:\", merged_list)\n",
    "\n",
    "\n",
    "\n",
    "Виведення:\n",
    "\n",
    "Відсортований список: [1, 1, 2, 3, 4, 4, 5, 6]"
   ]
  },
  {
   "cell_type": "code",
   "execution_count": 43,
   "metadata": {},
   "outputs": [
    {
     "name": "stdout",
     "output_type": "stream",
     "text": [
      "Відсортований список: [1, 1, 2, 3, 4, 4, 5, 6]\n"
     ]
    }
   ],
   "source": [
    "def merge_sort(arr):\n",
    "    if len(arr) == 1:\n",
    "        return arr[0]\n",
    "    if len(arr) == 0:\n",
    "        return []\n",
    "\n",
    "    mid = len(arr) // 2\n",
    "    left_half = arr[:mid]\n",
    "    right_half = arr[mid:]\n",
    "\n",
    "    return merge(merge_sort(left_half), merge_sort(right_half))\n",
    "\n",
    "def merge(left, right):\n",
    "    merged = []\n",
    "    left_index = 0\n",
    "    right_index = 0\n",
    "    \n",
    "\n",
    "    # Спочатку об'єднайте менші елементи\n",
    "    while left_index < len(left) and right_index < len(right):\n",
    "        if left[left_index] <= right[right_index]:\n",
    "            merged.append(left[left_index])\n",
    "            left_index += 1\n",
    "        else:\n",
    "            merged.append(right[right_index])\n",
    "            right_index += 1\n",
    "\n",
    "    # Якщо в лівій або правій половині залишилися елементи, \n",
    "\t\t# додайте їх до результату\n",
    "    while left_index < len(left):\n",
    "        merged.append(left[left_index])\n",
    "        left_index += 1\n",
    "\n",
    "    while right_index < len(right):\n",
    "        merged.append(right[right_index])\n",
    "        right_index += 1\n",
    "\n",
    "    return merged\n",
    "\n",
    "def merge_k_lists(lists):\n",
    "    return merge_sort(lists)\n",
    "\n",
    "lists = [[1, 4, 5], [1, 3, 4], [2, 6]]\n",
    "merged_list = merge_k_lists(lists)\n",
    "print(\"Відсортований список:\", merged_list)"
   ]
  }
 ],
 "metadata": {
  "kernelspec": {
   "display_name": "Python 3",
   "language": "python",
   "name": "python3"
  },
  "language_info": {
   "codemirror_mode": {
    "name": "ipython",
    "version": 3
   },
   "file_extension": ".py",
   "mimetype": "text/x-python",
   "name": "python",
   "nbconvert_exporter": "python",
   "pygments_lexer": "ipython3",
   "version": "3.12.2"
  }
 },
 "nbformat": 4,
 "nbformat_minor": 2
}
